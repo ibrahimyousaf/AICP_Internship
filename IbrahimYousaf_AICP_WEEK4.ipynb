{
 "cells": [
  {
   "cell_type": "code",
   "execution_count": 2,
   "id": "9e1b030f",
   "metadata": {},
   "outputs": [
    {
     "name": "stdout",
     "output_type": "stream",
     "text": [
      "1. Calculate Hexagon Properties\n",
      "2. Calculate Square Properties\n",
      "Any other key to exit\n",
      "Enter your choice: 1\n",
      "Hexagon:\n",
      "Area: 210.4441731196186\n",
      "Perimeter: 54\n",
      "Sum of Angles: 720\n",
      "\n",
      "1. Calculate Hexagon Properties\n",
      "2. Calculate Square Properties\n",
      "Any other key to exit\n",
      "Enter your choice: 2\n",
      "Square:\n",
      "Area: 100\n",
      "Perimeter: 40\n",
      "\n",
      "1. Calculate Hexagon Properties\n",
      "2. Calculate Square Properties\n",
      "Any other key to exit\n",
      "Enter your choice: 3\n",
      "Program terminated.\n"
     ]
    }
   ],
   "source": [
    "import math\n",
    "class Hexagon:\n",
    "    def __init__(self, side_length):\n",
    "        self.side_length = side_length\n",
    "    def calc_area(self):\n",
    "        return 1.5 * math.sqrt(3) * self.side_length ** 2\n",
    "    def calc_perimeter(self):\n",
    "        return 6 * self.side_length\n",
    "    def calc_angle_sum(self):\n",
    "        return 6 * 120\n",
    "    def display(self):\n",
    "        print(\"Hexagon:\")\n",
    "        print(\"Area:\", self.calc_area())\n",
    "        print(\"Perimeter:\", self.calc_perimeter())\n",
    "        print(\"Sum of Angles:\", self.calc_angle_sum())\n",
    "        print()\n",
    "class Square:\n",
    "    def __init__(self, side_length):\n",
    "        self.side_length = side_length\n",
    "    def calc_area_square(self):\n",
    "        return self.side_length ** 2\n",
    "    def calc_perimeter_square(self):\n",
    "        return 4 * self.side_length\n",
    "    def display_square(self):\n",
    "        print(\"Square:\")\n",
    "        print(\"Area:\", self.calc_area_square())\n",
    "        print(\"Perimeter:\", self.calc_perimeter_square())\n",
    "        print()\n",
    "def main():\n",
    "    cnic = \"XY210351539\" #Last digit is of the CNIC  \n",
    "    last_digit = int(cnic[-1])\n",
    "    hexagon = Hexagon(last_digit)\n",
    "    square = Square(last_digit + 1)\n",
    "    while True:\n",
    "        print(\"1. Calculate Hexagon Properties\")\n",
    "        print(\"2. Calculate Square Properties\")\n",
    "        print(\"Any other key to exit\")\n",
    "        choice = input(\"Enter your choice: \")\n",
    "        if choice == '1':\n",
    "            hexagon.display()\n",
    "        elif choice == '2':\n",
    "            square.display_square()\n",
    "        else:\n",
    "            print(\"Program terminated.\")\n",
    "            break\n",
    "if __name__ == \"__main__\":\n",
    "    main()"
   ]
  },
  {
   "cell_type": "code",
   "execution_count": null,
   "id": "a923a928",
   "metadata": {},
   "outputs": [],
   "source": []
  }
 ],
 "metadata": {
  "kernelspec": {
   "display_name": "Python 3 (ipykernel)",
   "language": "python",
   "name": "python3"
  },
  "language_info": {
   "codemirror_mode": {
    "name": "ipython",
    "version": 3
   },
   "file_extension": ".py",
   "mimetype": "text/x-python",
   "name": "python",
   "nbconvert_exporter": "python",
   "pygments_lexer": "ipython3",
   "version": "3.9.13"
  }
 },
 "nbformat": 4,
 "nbformat_minor": 5
}
