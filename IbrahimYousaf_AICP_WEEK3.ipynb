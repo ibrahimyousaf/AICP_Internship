{
 "cells": [
  {
   "cell_type": "code",
   "execution_count": 1,
   "id": "fcb11b6f",
   "metadata": {},
   "outputs": [],
   "source": [
    "import pandas as pd\n",
    "import numpy as np"
   ]
  },
  {
   "cell_type": "code",
   "execution_count": 2,
   "id": "660e4e5a",
   "metadata": {},
   "outputs": [
    {
     "name": "stdout",
     "output_type": "stream",
     "text": [
      "Enter your student ID: abcdefg1234\n",
      "\n",
      "Student ID: abcdefg1234\n",
      "1. Display bill for Slab 1 and Slab 2\n",
      "2. Display bill for Slab 3\n",
      "Any other key to exit\n",
      "Enter your choice: 1\n",
      "\n",
      "Bill for Slab 1:\n",
      "Unit Range: 0 to 100\n",
      "Cost per unit: Rs.10\n",
      "Total Units Consumed: 75\n",
      "Total Cost: Rs.750\n",
      "\n",
      "\n",
      "Bill for Slab 2:\n",
      "Unit Range: 101 to 200\n",
      "Cost per unit: Rs.15\n",
      "Total Units Consumed: 170\n",
      "Total Cost: Rs.2550\n",
      "\n",
      "\n",
      "Student ID: abcdefg1234\n",
      "1. Display bill for Slab 1 and Slab 2\n",
      "2. Display bill for Slab 3\n",
      "Any other key to exit\n",
      "Enter your choice: 2\n",
      "\n",
      "Bill for Slab 3:\n",
      "Unit Range: 201 to 300\n",
      "Cost per unit: Rs.20\n",
      "Total Units Consumed: 240\n",
      "Total Cost: Rs.4800\n",
      "\n",
      "\n",
      "Student ID: abcdefg1234\n",
      "1. Display bill for Slab 1 and Slab 2\n",
      "2. Display bill for Slab 3\n",
      "Any other key to exit\n",
      "Enter your choice: 3\n",
      "Exiting the program. Goodbye!\n"
     ]
    }
   ],
   "source": [
    "def display_bill(matrix, slab_number, unit_range, unit_cost):\n",
    "    total_units = matrix[slab_number - 1][-1]\n",
    "    total_cost = total_units * unit_cost\n",
    "    print(f\"\\nBill for Slab {slab_number}:\")\n",
    "    print(f\"Unit Range: {unit_range}\")\n",
    "    print(f\"Cost per unit: Rs.{unit_cost}\")\n",
    "    print(f\"Total Units Consumed: {total_units}\")\n",
    "    print(f\"Total Cost: Rs.{total_cost}\\n\")\n",
    "\n",
    "\n",
    "def display_slab_1_and_2(matrix):\n",
    "    display_bill(matrix, 1, \"0 to 100\", 10)\n",
    "    display_bill(matrix, 2, \"101 to 200\", 15)\n",
    "\n",
    "\n",
    "def display_slab_3(matrix):\n",
    "    display_bill(matrix, 3, \"201 to 300\", 20)\n",
    "\n",
    "\n",
    "def main():\n",
    "    student_id = input(\"Enter your student ID: \")\n",
    "\n",
    "    matrix = [\n",
    "        [55, 65, 75],\n",
    "        [120, 150, 170],\n",
    "        [210, 230, 240]\n",
    "    ]\n",
    "\n",
    "    while True:\n",
    "        print(\"\\nStudent ID:\", student_id)\n",
    "        print(\"1. Display bill for Slab 1 and Slab 2\")\n",
    "        print(\"2. Display bill for Slab 3\")\n",
    "        print(\"Any other key to exit\")\n",
    "\n",
    "        choice = input(\"Enter your choice: \")\n",
    "        if choice == '1':\n",
    "            display_slab_1_and_2(matrix)\n",
    "        elif choice == '2':\n",
    "            display_slab_3(matrix)\n",
    "        else:\n",
    "            print(\"Exiting the program. Goodbye!\")\n",
    "            break\n",
    "if __name__ == \"__main__\":\n",
    "    main()\n"
   ]
  },
  {
   "cell_type": "code",
   "execution_count": null,
   "id": "85e9f0d9",
   "metadata": {},
   "outputs": [],
   "source": []
  }
 ],
 "metadata": {
  "kernelspec": {
   "display_name": "Python 3 (ipykernel)",
   "language": "python",
   "name": "python3"
  },
  "language_info": {
   "codemirror_mode": {
    "name": "ipython",
    "version": 3
   },
   "file_extension": ".py",
   "mimetype": "text/x-python",
   "name": "python",
   "nbconvert_exporter": "python",
   "pygments_lexer": "ipython3",
   "version": "3.9.13"
  }
 },
 "nbformat": 4,
 "nbformat_minor": 5
}
